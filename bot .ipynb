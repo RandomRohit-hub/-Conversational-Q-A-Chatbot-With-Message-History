{
 "cells": [
  {
   "cell_type": "code",
   "execution_count": 5,
   "id": "3b2338c5",
   "metadata": {},
   "outputs": [
    {
     "name": "stderr",
     "output_type": "stream",
     "text": [
      "c:\\Users\\fakee\\anaconda3\\envs\\venv\\lib\\site-packages\\langchain_groq\\chat_models.py:364: UserWarning: WARNING! groq_api is not default parameter.\n",
      "                    groq_api was transferred to model_kwargs.\n",
      "                    Please confirm that groq_api is what you intended.\n",
      "  warnings.warn(\n"
     ]
    }
   ],
   "source": [
    "import os\n",
    "from dotenv import load_dotenv\n",
    "load_dotenv()\n",
    "from langchain_groq import ChatGroq\n",
    "\n",
    "groq_api=os.getenv(\"groq_api_key\")\n",
    "\n",
    "llm=ChatGroq(groq_api=groq_api,model_name=\"llama3-8b-8192\")\n",
    "\n",
    "# llm\n",
    "\n"
   ]
  },
  {
   "cell_type": "code",
   "execution_count": 6,
   "id": "8a0fd5f0",
   "metadata": {},
   "outputs": [
    {
     "name": "stdout",
     "output_type": "stream",
     "text": [
      "Requirement already satisfied: bs4 in c:\\users\\fakee\\anaconda3\\envs\\venv\\lib\\site-packages (0.0.2)\n",
      "Requirement already satisfied: beautifulsoup4 in c:\\users\\fakee\\anaconda3\\envs\\venv\\lib\\site-packages (from bs4) (4.13.4)\n",
      "Requirement already satisfied: soupsieve>1.2 in c:\\users\\fakee\\anaconda3\\envs\\venv\\lib\\site-packages (from beautifulsoup4->bs4) (2.7)\n",
      "Requirement already satisfied: typing-extensions>=4.0.0 in c:\\users\\fakee\\anaconda3\\envs\\venv\\lib\\site-packages (from beautifulsoup4->bs4) (4.13.2)\n"
     ]
    }
   ],
   "source": [
    "!pip install bs4"
   ]
  },
  {
   "cell_type": "code",
   "execution_count": null,
   "id": "11027945",
   "metadata": {},
   "outputs": [],
   "source": [
    " "
   ]
  }
 ],
 "metadata": {
  "kernelspec": {
   "display_name": "venv",
   "language": "python",
   "name": "python3"
  },
  "language_info": {
   "codemirror_mode": {
    "name": "ipython",
    "version": 3
   },
   "file_extension": ".py",
   "mimetype": "text/x-python",
   "name": "python",
   "nbconvert_exporter": "python",
   "pygments_lexer": "ipython3",
   "version": "3.10.16"
  }
 },
 "nbformat": 4,
 "nbformat_minor": 5
}
